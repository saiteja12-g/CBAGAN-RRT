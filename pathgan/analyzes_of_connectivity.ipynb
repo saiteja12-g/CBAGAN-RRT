{
 "cells": [
  {
   "cell_type": "code",
   "execution_count": 11,
   "metadata": {},
   "outputs": [],
   "source": [
    "import cv2\n",
    "import numpy as np\n",
    "import pandas as pd\n",
    "from utils import rgb2binary\n",
    "import matplotlib.pyplot as plt\n",
    "from tqdm.notebook import tqdm\n",
    "from PIL import Image, ImageDraw\n",
    "import os\n",
    "import re\n",
    "import glob\n",
    "import sys\n",
    "from  pathlib import Path\n",
    "from collections import deque\n",
    "from models.rrt import RRT, RRTStar"
   ]
  },
  {
   "cell_type": "code",
   "execution_count": 12,
   "metadata": {},
   "outputs": [],
   "source": [
    "dataset_path = '../dataset/sagan_results/gt/results/'\n",
    "data_path = '../' "
   ]
  },
  {
   "cell_type": "code",
   "execution_count": 13,
   "metadata": {},
   "outputs": [
    {
     "data": {
      "text/plain": [
       "['../dataset/sagan_results/gt/results/.\\\\roi_0.png',\n",
       " '../dataset/sagan_results/gt/results/.\\\\roi_1.png',\n",
       " '../dataset/sagan_results/gt/results/.\\\\roi_2.png',\n",
       " '../dataset/sagan_results/gt/results/.\\\\roi_3.png',\n",
       " '../dataset/sagan_results/gt/results/.\\\\roi_4.png']"
      ]
     },
     "execution_count": 13,
     "metadata": {},
     "output_type": "execute_result"
    }
   ],
   "source": [
    "roi_result_list = glob.glob(dataset_path + './*.png')\n",
    "roi_result_list.sort(key = lambda s: int(re.search('\\d+', s).group()))\n",
    "roi_result_list[:5] "
   ]
  },
  {
   "cell_type": "code",
   "execution_count": 14,
   "metadata": {},
   "outputs": [
    {
     "data": {
      "text/html": [
       "<div>\n",
       "<style scoped>\n",
       "    .dataframe tbody tr th:only-of-type {\n",
       "        vertical-align: middle;\n",
       "    }\n",
       "\n",
       "    .dataframe tbody tr th {\n",
       "        vertical-align: top;\n",
       "    }\n",
       "\n",
       "    .dataframe thead th {\n",
       "        text-align: right;\n",
       "    }\n",
       "</style>\n",
       "<table border=\"1\" class=\"dataframe\">\n",
       "  <thead>\n",
       "    <tr style=\"text-align: right;\">\n",
       "      <th></th>\n",
       "      <th>true_roi</th>\n",
       "      <th>pred_roi</th>\n",
       "      <th>iou</th>\n",
       "      <th>fid</th>\n",
       "      <th>is</th>\n",
       "      <th>dice</th>\n",
       "    </tr>\n",
       "  </thead>\n",
       "  <tbody>\n",
       "    <tr>\n",
       "      <th>0</th>\n",
       "      <td>dataset/tasks/map_99/task_90_roi.png</td>\n",
       "      <td>results/roi_0.png</td>\n",
       "      <td>0.627762</td>\n",
       "      <td>100.345329</td>\n",
       "      <td>1.019218</td>\n",
       "      <td>0.771319</td>\n",
       "    </tr>\n",
       "    <tr>\n",
       "      <th>1</th>\n",
       "      <td>dataset/tasks/map_99/task_91_roi.png</td>\n",
       "      <td>results/roi_1.png</td>\n",
       "      <td>0.627762</td>\n",
       "      <td>100.345329</td>\n",
       "      <td>1.019218</td>\n",
       "      <td>0.771319</td>\n",
       "    </tr>\n",
       "    <tr>\n",
       "      <th>2</th>\n",
       "      <td>dataset/tasks/map_99/task_92_roi.png</td>\n",
       "      <td>results/roi_2.png</td>\n",
       "      <td>0.627762</td>\n",
       "      <td>100.345329</td>\n",
       "      <td>1.019218</td>\n",
       "      <td>0.771319</td>\n",
       "    </tr>\n",
       "    <tr>\n",
       "      <th>3</th>\n",
       "      <td>dataset/tasks/map_99/task_93_roi.png</td>\n",
       "      <td>results/roi_3.png</td>\n",
       "      <td>0.627762</td>\n",
       "      <td>100.345329</td>\n",
       "      <td>1.019218</td>\n",
       "      <td>0.771319</td>\n",
       "    </tr>\n",
       "    <tr>\n",
       "      <th>4</th>\n",
       "      <td>dataset/tasks/map_99/task_94_roi.png</td>\n",
       "      <td>results/roi_4.png</td>\n",
       "      <td>0.627762</td>\n",
       "      <td>100.345329</td>\n",
       "      <td>1.019218</td>\n",
       "      <td>0.771319</td>\n",
       "    </tr>\n",
       "  </tbody>\n",
       "</table>\n",
       "</div>"
      ],
      "text/plain": [
       "                               true_roi           pred_roi       iou  \\\n",
       "0  dataset/tasks/map_99/task_90_roi.png  results/roi_0.png  0.627762   \n",
       "1  dataset/tasks/map_99/task_91_roi.png  results/roi_1.png  0.627762   \n",
       "2  dataset/tasks/map_99/task_92_roi.png  results/roi_2.png  0.627762   \n",
       "3  dataset/tasks/map_99/task_93_roi.png  results/roi_3.png  0.627762   \n",
       "4  dataset/tasks/map_99/task_94_roi.png  results/roi_4.png  0.627762   \n",
       "\n",
       "          fid        is      dice  \n",
       "0  100.345329  1.019218  0.771319  \n",
       "1  100.345329  1.019218  0.771319  \n",
       "2  100.345329  1.019218  0.771319  \n",
       "3  100.345329  1.019218  0.771319  \n",
       "4  100.345329  1.019218  0.771319  "
      ]
     },
     "execution_count": 14,
     "metadata": {},
     "output_type": "execute_result"
    }
   ],
   "source": [
    "data = pd.read_csv(dataset_path + './results.csv')\n",
    "data = data.sort_values(by=\"true_roi\").reset_index(drop=True)\n",
    "data.head()"
   ]
  },
  {
   "cell_type": "code",
   "execution_count": 15,
   "metadata": {},
   "outputs": [
    {
     "data": {
      "text/plain": [
       "'dataset/tasks/map_99/task_98_roi.png'"
      ]
     },
     "execution_count": 15,
     "metadata": {},
     "output_type": "execute_result"
    }
   ],
   "source": [
    "data.true_roi[8]"
   ]
  },
  {
   "cell_type": "code",
   "execution_count": 16,
   "metadata": {},
   "outputs": [
    {
     "data": {
      "text/plain": [
       "'dataset/tasks/map_99'"
      ]
     },
     "execution_count": 16,
     "metadata": {},
     "output_type": "execute_result"
    }
   ],
   "source": [
    "map_file = os.path.dirname(data.true_roi[8])\n",
    "map_file"
   ]
  },
  {
   "cell_type": "code",
   "execution_count": 17,
   "metadata": {},
   "outputs": [
    {
     "data": {
      "text/html": [
       "<div>\n",
       "<style scoped>\n",
       "    .dataframe tbody tr th:only-of-type {\n",
       "        vertical-align: middle;\n",
       "    }\n",
       "\n",
       "    .dataframe tbody tr th {\n",
       "        vertical-align: top;\n",
       "    }\n",
       "\n",
       "    .dataframe thead th {\n",
       "        text-align: right;\n",
       "    }\n",
       "</style>\n",
       "<table border=\"1\" class=\"dataframe\">\n",
       "  <thead>\n",
       "    <tr style=\"text-align: right;\">\n",
       "      <th></th>\n",
       "      <th>istart</th>\n",
       "      <th>jstart</th>\n",
       "      <th>igoal</th>\n",
       "      <th>jgoal</th>\n",
       "      <th>euclid</th>\n",
       "    </tr>\n",
       "  </thead>\n",
       "  <tbody>\n",
       "    <tr>\n",
       "      <th>0</th>\n",
       "      <td>52</td>\n",
       "      <td>62</td>\n",
       "      <td>43</td>\n",
       "      <td>10</td>\n",
       "      <td>52.773099</td>\n",
       "    </tr>\n",
       "    <tr>\n",
       "      <th>1</th>\n",
       "      <td>5</td>\n",
       "      <td>16</td>\n",
       "      <td>22</td>\n",
       "      <td>44</td>\n",
       "      <td>32.756679</td>\n",
       "    </tr>\n",
       "    <tr>\n",
       "      <th>2</th>\n",
       "      <td>25</td>\n",
       "      <td>50</td>\n",
       "      <td>58</td>\n",
       "      <td>31</td>\n",
       "      <td>38.078866</td>\n",
       "    </tr>\n",
       "    <tr>\n",
       "      <th>3</th>\n",
       "      <td>55</td>\n",
       "      <td>28</td>\n",
       "      <td>38</td>\n",
       "      <td>59</td>\n",
       "      <td>35.355339</td>\n",
       "    </tr>\n",
       "    <tr>\n",
       "      <th>4</th>\n",
       "      <td>58</td>\n",
       "      <td>14</td>\n",
       "      <td>26</td>\n",
       "      <td>56</td>\n",
       "      <td>52.801515</td>\n",
       "    </tr>\n",
       "  </tbody>\n",
       "</table>\n",
       "</div>"
      ],
      "text/plain": [
       "   istart  jstart  igoal  jgoal     euclid\n",
       "0      52      62     43     10  52.773099\n",
       "1       5      16     22     44  32.756679\n",
       "2      25      50     58     31  38.078866\n",
       "3      55      28     38     59  35.355339\n",
       "4      58      14     26     56  52.801515"
      ]
     },
     "execution_count": 17,
     "metadata": {},
     "output_type": "execute_result"
    }
   ],
   "source": [
    "Tasks = pd.read_csv(data_path + map_file + '.csv')\n",
    "Tasks.head()"
   ]
  },
  {
   "cell_type": "code",
   "execution_count": 18,
   "metadata": {},
   "outputs": [
    {
     "data": {
      "text/plain": [
       "98"
      ]
     },
     "execution_count": 18,
     "metadata": {},
     "output_type": "execute_result"
    }
   ],
   "source": [
    "task_num = int(re.search('task\\_(\\d+)', os.path.basename(data.true_roi[8])).group(1))\n",
    "task_num"
   ]
  },
  {
   "cell_type": "code",
   "execution_count": 19,
   "metadata": {},
   "outputs": [
    {
     "data": {
      "text/plain": [
       "(63, 29)"
      ]
     },
     "execution_count": 19,
     "metadata": {},
     "output_type": "execute_result"
    }
   ],
   "source": [
    "start = (Tasks.istart[task_num], Tasks.jstart[task_num])\n",
    "goal = (Tasks.igoal[task_num], Tasks.jgoal[task_num])\n",
    "start\n",
    "goal"
   ]
  },
  {
   "cell_type": "code",
   "execution_count": 20,
   "metadata": {},
   "outputs": [
    {
     "data": {
      "text/plain": [
       "{'start': array([0, 0, 1]), 'goal': array([1, 0, 0]), 'roi': array([0, 1, 0])}"
      ]
     },
     "execution_count": 20,
     "metadata": {},
     "output_type": "execute_result"
    }
   ],
   "source": [
    "colors = {'start': np.array([0, 0, 1]), 'goal': np.array([1, 0, 0]), 'roi': np.array([0, 1, 0])}\n",
    "colors"
   ]
  },
  {
   "cell_type": "code",
   "execution_count": 21,
   "metadata": {},
   "outputs": [
    {
     "data": {
      "text/plain": [
       "'map_99'"
      ]
     },
     "execution_count": 21,
     "metadata": {},
     "output_type": "execute_result"
    }
   ],
   "source": [
    "Map = re.search('map\\_(\\d+)', data.true_roi[8]).group(0)\n",
    "Map"
   ]
  },
  {
   "cell_type": "code",
   "execution_count": 22,
   "metadata": {},
   "outputs": [
    {
     "data": {
      "image/png": "[encoded data removed]",
      "text/plain": [
       "<PIL.Image.Image image mode=RGB size=64x64>"
      ]
     },
     "execution_count": 22,
     "metadata": {},
     "output_type": "execute_result"
    }
   ],
   "source": [
    "Map_img = Image.open('../dataset/maps/' + Map + '.png').convert('RGB')\n",
    "Map_img"
   ]
  },
  {
   "cell_type": "code",
   "execution_count": 23,
   "metadata": {},
   "outputs": [
    {
     "data": {
      "image/png": "[encoded data removed]",
      "text/plain": [
       "<PIL.Image.Image image mode=RGB size=64x64>"
      ]
     },
     "execution_count": 23,
     "metadata": {},
     "output_type": "execute_result"
    }
   ],
   "source": [
    "true_roi = Image.open(data_path + data.true_roi[8]).convert('RGB')\n",
    "true_roi"
   ]
  },
  {
   "cell_type": "code",
   "execution_count": 24,
   "metadata": {},
   "outputs": [],
   "source": [
    "dataset_path1 = '../dataset/sagan_results/sagan_self_attention/'\n",
    "dataset_path2= '../dataset/sagan_results/sagan_cbam_attention/'"
   ]
  },
  {
   "cell_type": "code",
   "execution_count": 25,
   "metadata": {},
   "outputs": [
    {
     "data": {
      "image/png": "[encoded data removed]",
      "text/plain": [
       "<PIL.Image.Image image mode=RGB size=64x64>"
      ]
     },
     "execution_count": 25,
     "metadata": {},
     "output_type": "execute_result"
    }
   ],
   "source": [
    "pred_roi1 = Image.open(dataset_path1 + data.pred_roi[8]).convert('RGB')\n",
    "pred_roi1"
   ]
  },
  {
   "cell_type": "code",
   "execution_count": 26,
   "metadata": {},
   "outputs": [
    {
     "data": {
      "image/png": "[encoded data removed]",
      "text/plain": [
       "<PIL.Image.Image image mode=RGB size=64x64>"
      ]
     },
     "execution_count": 26,
     "metadata": {},
     "output_type": "execute_result"
    }
   ],
   "source": [
    "pred_roi2 = Image.open(dataset_path2 + data.pred_roi[8]).convert('RGB')\n",
    "pred_roi2"
   ]
  },
  {
   "cell_type": "code",
   "execution_count": 27,
   "metadata": {},
   "outputs": [
    {
     "data": {
      "image/png": "[encoded data removed]",
      "text/plain": [
       "<Figure size 2400x2000 with 4 Axes>"
      ]
     },
     "metadata": {},
     "output_type": "display_data"
    }
   ],
   "source": [
    "fig, ax = plt.subplots(ncols=4,  figsize=(12, 10), dpi=200)\n",
    "for axx, map_img in zip(ax.flatten(), [Map_img, true_roi, pred_roi1, pred_roi2]):\n",
    "    k = map_img.load()\n",
    "    k[int(start[1]), int(start[0])] = tuple(colors['start']*255)\n",
    "    k[int(goal[1]), int(goal[0])] = tuple(colors['goal']*255)\n",
    "    \n",
    "    axx.axes.xaxis.set_visible(False)\n",
    "    axx.axes.yaxis.set_visible(False)\n",
    "    axx.imshow(map_img);\n",
    "plt.tight_layout()"
   ]
  },
  {
   "cell_type": "code",
   "execution_count": 29,
   "metadata": {},
   "outputs": [],
   "source": [
    "pred_roi = Image.open(dataset_path2 + data.pred_roi[0]).convert('RGB')\n",
    "mask_grid = rgb2binary(np.array(pred_roi))\n",
    "mask_grid = np.where(np.sum(mask_grid, axis=2) > 2, 0, 1)"
   ]
  },
  {
   "cell_type": "code",
   "execution_count": 34,
   "metadata": {},
   "outputs": [
    {
     "data": {
      "image/png": "[encoded data removed]",
      "text/plain": [
       "<Figure size 960x720 with 1 Axes>"
      ]
     },
     "metadata": {},
     "output_type": "display_data"
    }
   ],
   "source": [
    "fig, ax = plt.subplots(dpi=150)\n",
    "ax.axes.xaxis.set_visible(False)\n",
    "ax.axes.yaxis.set_visible(False)\n",
    "plt.imshow(mask_grid, cmap='gray');"
   ]
  }
 ],
 "metadata": {
  "kernelspec": {
   "display_name": "Python 3",
   "language": "python",
   "name": "python3"
  },
  "language_info": {
   "codemirror_mode": {
    "name": "ipython",
    "version": 3
   },
   "file_extension": ".py",
   "mimetype": "text/x-python",
   "name": "python",
   "nbconvert_exporter": "python",
   "pygments_lexer": "ipython3",
   "version": "3.10.11"
  }
 },
 "nbformat": 4,
 "nbformat_minor": 2
}
